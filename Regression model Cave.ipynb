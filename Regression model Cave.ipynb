{
 "cells": [
  {
   "cell_type": "code",
   "execution_count": 1,
   "id": "50e4398e",
   "metadata": {},
   "outputs": [],
   "source": [
    "import pandas as pd\n",
    "import numpy as np\n",
    "import matplotlib.pyplot as plt\n",
    "import seaborn as sns\n",
    "from sklearn.model_selection import train_test_split\n",
    "from sklearn.linear_model import LinearRegression\n",
    "from sklearn.metrics import mean_squared_error, r2_score"
   ]
  },
  {
   "cell_type": "code",
   "execution_count": 2,
   "id": "a5e19d7e",
   "metadata": {},
   "outputs": [],
   "source": [
    "df= pd.read_csv(\"D:/Work/Revelio/Cave Cafe/exact_cleaned_data.csv\")"
   ]
  },
  {
   "cell_type": "code",
   "execution_count": 40,
   "id": "683072dc",
   "metadata": {},
   "outputs": [],
   "source": [
    "df_dates=pd.read_csv(\"D:/Work/Revelio/Cave Cafe/cave_eng - Copy.csv\" )"
   ]
  },
  {
   "cell_type": "code",
   "execution_count": 43,
   "id": "ce428b07",
   "metadata": {},
   "outputs": [],
   "source": [
    "# Setting the key column for merging\n",
    "key_col = 'Id'\n",
    "Date_col = 'StartSession'\n",
    "# Merging the dataframes on the key column\n",
    "New_date= f\"{Date_col}_from b\"\n",
    "df = df.merge(df_dates[[key_col, Date_col]].rename(columns={Date_col: New_date}), \n",
    "              on=key_col,\n",
    "               how='left'\n",
    "               )"
   ]
  },
  {
   "cell_type": "code",
   "execution_count": 44,
   "id": "cdb1242c",
   "metadata": {},
   "outputs": [
    {
     "data": {
      "text/html": [
       "<div>\n",
       "<style scoped>\n",
       "    .dataframe tbody tr th:only-of-type {\n",
       "        vertical-align: middle;\n",
       "    }\n",
       "\n",
       "    .dataframe tbody tr th {\n",
       "        vertical-align: top;\n",
       "    }\n",
       "\n",
       "    .dataframe thead th {\n",
       "        text-align: right;\n",
       "    }\n",
       "</style>\n",
       "<table border=\"1\" class=\"dataframe\">\n",
       "  <thead>\n",
       "    <tr style=\"text-align: right;\">\n",
       "      <th></th>\n",
       "      <th>Id</th>\n",
       "      <th>No</th>\n",
       "      <th>Barcode</th>\n",
       "      <th>Name</th>\n",
       "      <th>PriceList</th>\n",
       "      <th>Category_Id</th>\n",
       "      <th>category_name</th>\n",
       "      <th>Quantity</th>\n",
       "      <th>TotalPrice</th>\n",
       "      <th>Count</th>\n",
       "      <th>...</th>\n",
       "      <th>MenuId</th>\n",
       "      <th>IsDone</th>\n",
       "      <th>DiscountValue</th>\n",
       "      <th>StartSession</th>\n",
       "      <th>YearMonth</th>\n",
       "      <th>NormalizedName</th>\n",
       "      <th>CannedProduct</th>\n",
       "      <th>type_encoded</th>\n",
       "      <th>Category_Id_numeric</th>\n",
       "      <th>StartSession_from b</th>\n",
       "    </tr>\n",
       "  </thead>\n",
       "  <tbody>\n",
       "    <tr>\n",
       "      <th>0</th>\n",
       "      <td>461bb8e3-fa25-4298-86d3-da3b3290f877</td>\n",
       "      <td>52</td>\n",
       "      <td>52</td>\n",
       "      <td>قهوة تركي</td>\n",
       "      <td>35</td>\n",
       "      <td>a562390f-e36d-4349-aba5-99440975975c</td>\n",
       "      <td>مشروبات ساخنة</td>\n",
       "      <td>1</td>\n",
       "      <td>0.0</td>\n",
       "      <td>1379</td>\n",
       "      <td>...</td>\n",
       "      <td>1</td>\n",
       "      <td>1</td>\n",
       "      <td>35.0</td>\n",
       "      <td>07:29.1</td>\n",
       "      <td>2025-06</td>\n",
       "      <td>قهوة تركي</td>\n",
       "      <td>No</td>\n",
       "      <td>1</td>\n",
       "      <td>1</td>\n",
       "      <td>2025-03-05 21:25:40</td>\n",
       "    </tr>\n",
       "    <tr>\n",
       "      <th>1</th>\n",
       "      <td>461bb8e3-fa25-4298-86d3-da3b3290f877</td>\n",
       "      <td>52</td>\n",
       "      <td>52</td>\n",
       "      <td>قهوة تركي</td>\n",
       "      <td>35</td>\n",
       "      <td>a562390f-e36d-4349-aba5-99440975975c</td>\n",
       "      <td>مشروبات ساخنة</td>\n",
       "      <td>1</td>\n",
       "      <td>0.0</td>\n",
       "      <td>1379</td>\n",
       "      <td>...</td>\n",
       "      <td>1</td>\n",
       "      <td>1</td>\n",
       "      <td>35.0</td>\n",
       "      <td>07:29.1</td>\n",
       "      <td>2025-06</td>\n",
       "      <td>قهوة تركي</td>\n",
       "      <td>No</td>\n",
       "      <td>1</td>\n",
       "      <td>1</td>\n",
       "      <td>2025-03-05 21:25:40</td>\n",
       "    </tr>\n",
       "    <tr>\n",
       "      <th>2</th>\n",
       "      <td>461bb8e3-fa25-4298-86d3-da3b3290f877</td>\n",
       "      <td>52</td>\n",
       "      <td>52</td>\n",
       "      <td>قهوة تركي</td>\n",
       "      <td>35</td>\n",
       "      <td>a562390f-e36d-4349-aba5-99440975975c</td>\n",
       "      <td>مشروبات ساخنة</td>\n",
       "      <td>1</td>\n",
       "      <td>0.0</td>\n",
       "      <td>1379</td>\n",
       "      <td>...</td>\n",
       "      <td>1</td>\n",
       "      <td>1</td>\n",
       "      <td>35.0</td>\n",
       "      <td>07:29.1</td>\n",
       "      <td>2025-06</td>\n",
       "      <td>قهوة تركي</td>\n",
       "      <td>No</td>\n",
       "      <td>1</td>\n",
       "      <td>1</td>\n",
       "      <td>2025-03-05 21:50:22</td>\n",
       "    </tr>\n",
       "    <tr>\n",
       "      <th>3</th>\n",
       "      <td>461bb8e3-fa25-4298-86d3-da3b3290f877</td>\n",
       "      <td>52</td>\n",
       "      <td>52</td>\n",
       "      <td>قهوة تركي</td>\n",
       "      <td>35</td>\n",
       "      <td>a562390f-e36d-4349-aba5-99440975975c</td>\n",
       "      <td>مشروبات ساخنة</td>\n",
       "      <td>1</td>\n",
       "      <td>0.0</td>\n",
       "      <td>1379</td>\n",
       "      <td>...</td>\n",
       "      <td>1</td>\n",
       "      <td>1</td>\n",
       "      <td>35.0</td>\n",
       "      <td>07:29.1</td>\n",
       "      <td>2025-06</td>\n",
       "      <td>قهوة تركي</td>\n",
       "      <td>No</td>\n",
       "      <td>1</td>\n",
       "      <td>1</td>\n",
       "      <td>2025-03-05 21:50:22</td>\n",
       "    </tr>\n",
       "    <tr>\n",
       "      <th>4</th>\n",
       "      <td>461bb8e3-fa25-4298-86d3-da3b3290f877</td>\n",
       "      <td>52</td>\n",
       "      <td>52</td>\n",
       "      <td>قهوة تركي</td>\n",
       "      <td>35</td>\n",
       "      <td>a562390f-e36d-4349-aba5-99440975975c</td>\n",
       "      <td>مشروبات ساخنة</td>\n",
       "      <td>1</td>\n",
       "      <td>0.0</td>\n",
       "      <td>1379</td>\n",
       "      <td>...</td>\n",
       "      <td>1</td>\n",
       "      <td>1</td>\n",
       "      <td>35.0</td>\n",
       "      <td>07:29.1</td>\n",
       "      <td>2025-06</td>\n",
       "      <td>قهوة تركي</td>\n",
       "      <td>No</td>\n",
       "      <td>1</td>\n",
       "      <td>1</td>\n",
       "      <td>2025-03-06 18:52:52</td>\n",
       "    </tr>\n",
       "  </tbody>\n",
       "</table>\n",
       "<p>5 rows × 39 columns</p>\n",
       "</div>"
      ],
      "text/plain": [
       "                                     Id  No  Barcode       Name  PriceList  \\\n",
       "0  461bb8e3-fa25-4298-86d3-da3b3290f877  52       52  قهوة تركي         35   \n",
       "1  461bb8e3-fa25-4298-86d3-da3b3290f877  52       52  قهوة تركي         35   \n",
       "2  461bb8e3-fa25-4298-86d3-da3b3290f877  52       52  قهوة تركي         35   \n",
       "3  461bb8e3-fa25-4298-86d3-da3b3290f877  52       52  قهوة تركي         35   \n",
       "4  461bb8e3-fa25-4298-86d3-da3b3290f877  52       52  قهوة تركي         35   \n",
       "\n",
       "                            Category_Id  category_name  Quantity  TotalPrice  \\\n",
       "0  a562390f-e36d-4349-aba5-99440975975c  مشروبات ساخنة         1         0.0   \n",
       "1  a562390f-e36d-4349-aba5-99440975975c  مشروبات ساخنة         1         0.0   \n",
       "2  a562390f-e36d-4349-aba5-99440975975c  مشروبات ساخنة         1         0.0   \n",
       "3  a562390f-e36d-4349-aba5-99440975975c  مشروبات ساخنة         1         0.0   \n",
       "4  a562390f-e36d-4349-aba5-99440975975c  مشروبات ساخنة         1         0.0   \n",
       "\n",
       "   Count  ... MenuId  IsDone DiscountValue StartSession YearMonth  \\\n",
       "0   1379  ...      1       1          35.0      07:29.1   2025-06   \n",
       "1   1379  ...      1       1          35.0      07:29.1   2025-06   \n",
       "2   1379  ...      1       1          35.0      07:29.1   2025-06   \n",
       "3   1379  ...      1       1          35.0      07:29.1   2025-06   \n",
       "4   1379  ...      1       1          35.0      07:29.1   2025-06   \n",
       "\n",
       "   NormalizedName  CannedProduct type_encoded  Category_Id_numeric  \\\n",
       "0       قهوة تركي             No            1                    1   \n",
       "1       قهوة تركي             No            1                    1   \n",
       "2       قهوة تركي             No            1                    1   \n",
       "3       قهوة تركي             No            1                    1   \n",
       "4       قهوة تركي             No            1                    1   \n",
       "\n",
       "   StartSession_from b  \n",
       "0  2025-03-05 21:25:40  \n",
       "1  2025-03-05 21:25:40  \n",
       "2  2025-03-05 21:50:22  \n",
       "3  2025-03-05 21:50:22  \n",
       "4  2025-03-06 18:52:52  \n",
       "\n",
       "[5 rows x 39 columns]"
      ]
     },
     "execution_count": 44,
     "metadata": {},
     "output_type": "execute_result"
    }
   ],
   "source": [
    "df.head()"
   ]
  },
  {
   "cell_type": "code",
   "execution_count": 45,
   "id": "2dda0057",
   "metadata": {},
   "outputs": [
    {
     "name": "stdout",
     "output_type": "stream",
     "text": [
      "<class 'pandas.core.frame.DataFrame'>\n",
      "RangeIndex: 2173080 entries, 0 to 2173079\n",
      "Data columns (total 39 columns):\n",
      " #   Column                            Dtype  \n",
      "---  ------                            -----  \n",
      " 0   Id                                object \n",
      " 1   No                                int64  \n",
      " 2   Barcode                           int64  \n",
      " 3   Name                              object \n",
      " 4   PriceList                         int64  \n",
      " 5   Category_Id                       object \n",
      " 6   category_name                     object \n",
      " 7   Quantity                          int64  \n",
      " 8   TotalPrice                        float64\n",
      " 9   Count                             int64  \n",
      " 10  type                              object \n",
      " 11  is_refund                         int64  \n",
      " 12  Session_Id                        object \n",
      " 13  User_Id                           object \n",
      " 14  SalaCaptinId                      object \n",
      " 15  BranchId                          int64  \n",
      " 16  IsDeleted                         int64  \n",
      " 17  TableId                           object \n",
      " 18  DailyCount                        int64  \n",
      " 19  YearCount                         int64  \n",
      " 20  Is_Cash                           int64  \n",
      " 21  Date                              object \n",
      " 22  UnitId                            int64  \n",
      " 23  ProductUnitName                   object \n",
      " 24  QuantityFromParentForProductUnit  int64  \n",
      " 25  SoldUnitName                      object \n",
      " 26  QuantityFromParentForSoldUnit     int64  \n",
      " 27  TotalCost                         float64\n",
      " 28  UnitCost                          float64\n",
      " 29  MenuId                            int64  \n",
      " 30  IsDone                            int64  \n",
      " 31  DiscountValue                     float64\n",
      " 32  StartSession                      object \n",
      " 33  YearMonth                         object \n",
      " 34  NormalizedName                    object \n",
      " 35  CannedProduct                     object \n",
      " 36  type_encoded                      int64  \n",
      " 37  Category_Id_numeric               int64  \n",
      " 38  StartSession_from b               object \n",
      "dtypes: float64(4), int64(18), object(17)\n",
      "memory usage: 646.6+ MB\n"
     ]
    }
   ],
   "source": [
    "df.info(36)"
   ]
  },
  {
   "cell_type": "code",
   "execution_count": 46,
   "id": "30ddd184",
   "metadata": {},
   "outputs": [],
   "source": [
    "df['StartSession_from b']= pd.to_datetime(df['StartSession_from b'], errors='coerce')   "
   ]
  },
  {
   "cell_type": "code",
   "execution_count": 47,
   "id": "d6a08cb0",
   "metadata": {},
   "outputs": [
    {
     "name": "stdout",
     "output_type": "stream",
     "text": [
      "<class 'pandas.core.frame.DataFrame'>\n",
      "RangeIndex: 2173080 entries, 0 to 2173079\n",
      "Data columns (total 39 columns):\n",
      " #   Column                            Dtype         \n",
      "---  ------                            -----         \n",
      " 0   Id                                object        \n",
      " 1   No                                int64         \n",
      " 2   Barcode                           int64         \n",
      " 3   Name                              object        \n",
      " 4   PriceList                         int64         \n",
      " 5   Category_Id                       object        \n",
      " 6   category_name                     object        \n",
      " 7   Quantity                          int64         \n",
      " 8   TotalPrice                        float64       \n",
      " 9   Count                             int64         \n",
      " 10  type                              object        \n",
      " 11  is_refund                         int64         \n",
      " 12  Session_Id                        object        \n",
      " 13  User_Id                           object        \n",
      " 14  SalaCaptinId                      object        \n",
      " 15  BranchId                          int64         \n",
      " 16  IsDeleted                         int64         \n",
      " 17  TableId                           object        \n",
      " 18  DailyCount                        int64         \n",
      " 19  YearCount                         int64         \n",
      " 20  Is_Cash                           int64         \n",
      " 21  Date                              object        \n",
      " 22  UnitId                            int64         \n",
      " 23  ProductUnitName                   object        \n",
      " 24  QuantityFromParentForProductUnit  int64         \n",
      " 25  SoldUnitName                      object        \n",
      " 26  QuantityFromParentForSoldUnit     int64         \n",
      " 27  TotalCost                         float64       \n",
      " 28  UnitCost                          float64       \n",
      " 29  MenuId                            int64         \n",
      " 30  IsDone                            int64         \n",
      " 31  DiscountValue                     float64       \n",
      " 32  StartSession                      object        \n",
      " 33  YearMonth                         object        \n",
      " 34  NormalizedName                    object        \n",
      " 35  CannedProduct                     object        \n",
      " 36  type_encoded                      int64         \n",
      " 37  Category_Id_numeric               int64         \n",
      " 38  StartSession_from b               datetime64[ns]\n",
      "dtypes: datetime64[ns](1), float64(4), int64(18), object(16)\n",
      "memory usage: 646.6+ MB\n"
     ]
    }
   ],
   "source": [
    "df.info()"
   ]
  },
  {
   "cell_type": "code",
   "execution_count": 26,
   "id": "3d9e4326",
   "metadata": {},
   "outputs": [
    {
     "name": "stdout",
     "output_type": "stream",
     "text": [
      "['a562390f-e36d-4349-aba5-99440975975c'\n",
      " '2dc3d683-b099-4c3c-9df4-81935227e011'\n",
      " 'f3b6a32c-2ce9-4c21-9371-0c3c4a386896'\n",
      " '717428a5-fbda-4fc8-832a-ef875c24f18e'\n",
      " 'e7da47e5-6b52-42fc-a738-46548601fa91'\n",
      " 'c6972962-0fad-4648-84ba-865ef61b6f4e'\n",
      " '45b614c1-0f52-49db-9b5a-ef481b29a90f'\n",
      " 'd81e62db-0f64-4e9d-a251-670f24a4d82c'\n",
      " 'dedf70c0-50f7-4b31-9973-2db64a1f3b41'\n",
      " 'acd8a4d3-140b-4af5-939f-37e595a0ce95'\n",
      " '7ea2a0d2-a249-412b-89bd-58966a1625cb'\n",
      " '8fd56b98-f3f3-462c-9a39-ddde5143036d'\n",
      " '7883c987-77d6-4f49-b8d4-3c56810e8aa2'\n",
      " '2b1eb9f4-efa7-4e7a-a91a-6ab5e82da07b'\n",
      " 'ea633aa2-3f7a-4fbf-a917-3d01f85e84ba']\n"
     ]
    }
   ],
   "source": [
    "print(df['Category_Id'].unique())"
   ]
  },
  {
   "cell_type": "code",
   "execution_count": 29,
   "id": "7ee0236f",
   "metadata": {},
   "outputs": [],
   "source": [
    "df['Category_Id_numeric'], _ = pd.factorize(df['Category_Id'])\n",
    "df['Category_Id_numeric'] = df['Category_Id_numeric'] + 1"
   ]
  },
  {
   "cell_type": "code",
   "execution_count": 30,
   "id": "206f9f35",
   "metadata": {},
   "outputs": [
    {
     "name": "stdout",
     "output_type": "stream",
     "text": [
      "[ 1  2  3  4  5  6  7  8  9 10 11 12 13 14 15]\n"
     ]
    }
   ],
   "source": [
    "print(df['Category_Id_numeric'].unique())"
   ]
  },
  {
   "cell_type": "code",
   "execution_count": 6,
   "id": "2e32a121",
   "metadata": {},
   "outputs": [
    {
     "name": "stdout",
     "output_type": "stream",
     "text": [
      "Index(['Id', 'No', 'Barcode', 'Name', 'PriceList', 'Category_Id',\n",
      "       'category_name', 'Quantity', 'TotalPrice', 'Count', 'type', 'is_refund',\n",
      "       'Session_Id', 'User_Id', 'SalaCaptinId', 'BranchId', 'IsDeleted',\n",
      "       'TableId', 'DailyCount', 'YearCount', 'Is_Cash', 'Date', 'UnitId',\n",
      "       'ProductUnitName', 'QuantityFromParentForProductUnit', 'SoldUnitName',\n",
      "       'QuantityFromParentForSoldUnit', 'TotalCost', 'UnitCost', 'MenuId',\n",
      "       'IsDone', 'DiscountValue', 'StartSession', 'YearMonth',\n",
      "       'NormalizedName', 'CannedProduct'],\n",
      "      dtype='object')\n"
     ]
    }
   ],
   "source": [
    "print(df.columns)"
   ]
  },
  {
   "cell_type": "markdown",
   "id": "ffa7d934",
   "metadata": {},
   "source": [
    "### Preparing the data"
   ]
  },
  {
   "cell_type": "code",
   "execution_count": null,
   "id": "8057eaec",
   "metadata": {},
   "outputs": [],
   "source": []
  },
  {
   "cell_type": "code",
   "execution_count": 11,
   "id": "fc452ae0",
   "metadata": {},
   "outputs": [
    {
     "name": "stdout",
     "output_type": "stream",
     "text": [
      "0         صالة\n",
      "1         صالة\n",
      "2         صالة\n",
      "3         صالة\n",
      "4         صالة\n",
      "5         صالة\n",
      "6         صالة\n",
      "7         صالة\n",
      "8         صالة\n",
      "9         صالة\n",
      "10    تيك اواي\n",
      "11        صالة\n",
      "12        صالة\n",
      "13    تيك اواي\n",
      "14        صالة\n",
      "15        صالة\n",
      "16        صالة\n",
      "17        صالة\n",
      "18        صالة\n",
      "19        صالة\n",
      "Name: type, dtype: object\n"
     ]
    }
   ],
   "source": [
    "print(df['type'].head(20))"
   ]
  },
  {
   "cell_type": "code",
   "execution_count": 12,
   "id": "eb2805d2",
   "metadata": {},
   "outputs": [],
   "source": [
    "# Map values: dine in → 1, delivery → 0\n",
    "df['type_encoded'] = df['type'].map({\n",
    "    'صالة': 1,\n",
    "    'تيك اواي': 0\n",
    "})"
   ]
  },
  {
   "cell_type": "code",
   "execution_count": 21,
   "id": "7bb6327e",
   "metadata": {},
   "outputs": [
    {
     "name": "stdout",
     "output_type": "stream",
     "text": [
      "0       1\n",
      "1       1\n",
      "2       1\n",
      "3       1\n",
      "4       1\n",
      "       ..\n",
      "4772    1\n",
      "4773    1\n",
      "4774    1\n",
      "4775    1\n",
      "4776    1\n",
      "Name: type_encoded, Length: 4777, dtype: int64\n"
     ]
    }
   ],
   "source": [
    "print(df['type_encoded'])"
   ]
  },
  {
   "cell_type": "markdown",
   "id": "0f64f952",
   "metadata": {},
   "source": [
    "# Training the regression  model "
   ]
  },
  {
   "cell_type": "code",
   "execution_count": 31,
   "id": "63719dac",
   "metadata": {},
   "outputs": [],
   "source": [
    "features = ['PriceList','Category_Id_numeric','Quantity','type_encoded','is_refund','Is_Cash','DiscountValue','UnitCost']\n",
    "target = 'TotalPrice'"
   ]
  },
  {
   "cell_type": "code",
   "execution_count": 57,
   "id": "f5ddf603",
   "metadata": {},
   "outputs": [],
   "source": [
    "#split the data into training and testing sets\n",
    "x= df[features]\n",
    "y= df[target]\n",
    "\n",
    "x_train, x_test, y_train, y_test = train_test_split(x, y, test_size=0.35, random_state=42)"
   ]
  },
  {
   "cell_type": "code",
   "execution_count": 58,
   "id": "9b185035",
   "metadata": {},
   "outputs": [],
   "source": [
    "#Training the regression model\n",
    "model = LinearRegression()\n",
    "model.fit(x_train, y_train)\n",
    "# Make predictions\n",
    "y_pred = model.predict(x_test)"
   ]
  },
  {
   "cell_type": "code",
   "execution_count": 59,
   "id": "13cc479e",
   "metadata": {},
   "outputs": [
    {
     "name": "stdout",
     "output_type": "stream",
     "text": [
      "[ 8.01632101 48.89928201  8.07302529 ...  8.01823865 28.07898841\n",
      " 77.53371231]\n"
     ]
    }
   ],
   "source": [
    "print(y_pred)"
   ]
  },
  {
   "cell_type": "code",
   "execution_count": 60,
   "id": "2fb155fa",
   "metadata": {},
   "outputs": [
    {
     "name": "stdout",
     "output_type": "stream",
     "text": [
      "Mean Squared Error: 156.14841710187494\n",
      "R-squared: 0.8246071272357116\n"
     ]
    }
   ],
   "source": [
    "#Evaluate the model\n",
    "mse = mean_squared_error(y_test, y_pred)\n",
    "r2 = r2_score(y_test, y_pred)\n",
    "print(f'Mean Squared Error: {mse}')\n",
    "print(f'R-squared: {r2}')"
   ]
  },
  {
   "cell_type": "code",
   "execution_count": 53,
   "id": "ce14f957",
   "metadata": {},
   "outputs": [],
   "source": [
    "#extracting time features from the date column to enhance the model\n",
    "df['year']        = df['StartSession_from b'].dt.year\n",
    "df['month']       = df['StartSession_from b'].dt.month\n",
    "df['day']         = df['StartSession_from b'].dt.day\n",
    "df['day_of_week'] = df['StartSession_from b'].dt.dayofweek+1\n",
    "df['hour']        = df['StartSession_from b'].dt.hour\n",
    "df['is_weekend']  = df['day_of_week'].isin([5, 6]).astype(int)"
   ]
  },
  {
   "cell_type": "code",
   "execution_count": 55,
   "id": "0a4f28b3",
   "metadata": {},
   "outputs": [
    {
     "name": "stdout",
     "output_type": "stream",
     "text": [
      "[0 1]\n"
     ]
    }
   ],
   "source": [
    "print(df['is_weekend'].unique())"
   ]
  },
  {
   "cell_type": "code",
   "execution_count": 56,
   "id": "29ee5b14",
   "metadata": {},
   "outputs": [],
   "source": [
    "features = [\n",
    "    'PriceList', 'Category_Id_numeric', 'Quantity', 'type_encoded',\n",
    "    'is_refund', 'Is_Cash', 'DiscountValue', 'UnitCost',\n",
    "    'year', 'month', 'day', 'day_of_week', 'hour', 'is_weekend'\n",
    "]"
   ]
  },
  {
   "cell_type": "code",
   "execution_count": 61,
   "id": "88cd2e66",
   "metadata": {},
   "outputs": [
    {
     "name": "stdout",
     "output_type": "stream",
     "text": [
      "Mean Squared Error: 156.14841710187494\n",
      "R-squared: 0.8246071272357116\n"
     ]
    }
   ],
   "source": [
    "mse = mean_squared_error(y_test, y_pred)\n",
    "r2 = r2_score(y_test, y_pred)\n",
    "print(f'Mean Squared Error: {mse}')\n",
    "print(f'R-squared: {r2}')"
   ]
  },
  {
   "cell_type": "code",
   "execution_count": 62,
   "id": "4331025d",
   "metadata": {},
   "outputs": [
    {
     "data": {
      "text/plain": [
       "['linear_regression_model_cave.pkl']"
      ]
     },
     "execution_count": 62,
     "metadata": {},
     "output_type": "execute_result"
    }
   ],
   "source": [
    "import joblib\n",
    "joblib.dump(model, 'linear_regression_model_cave.pkl')"
   ]
  },
  {
   "cell_type": "code",
   "execution_count": 63,
   "id": "1d0caa31",
   "metadata": {},
   "outputs": [
    {
     "name": "stdout",
     "output_type": "stream",
     "text": [
      "c:\\Users\\omar saadallah\\AppData\\Local\\Programs\\Microsoft VS Code\n"
     ]
    }
   ],
   "source": [
    "import os\n",
    "print(os.getcwd())"
   ]
  },
  {
   "cell_type": "code",
   "execution_count": null,
   "id": "fa20d753",
   "metadata": {},
   "outputs": [],
   "source": []
  }
 ],
 "metadata": {
  "kernelspec": {
   "display_name": "Python 3",
   "language": "python",
   "name": "python3"
  },
  "language_info": {
   "codemirror_mode": {
    "name": "ipython",
    "version": 3
   },
   "file_extension": ".py",
   "mimetype": "text/x-python",
   "name": "python",
   "nbconvert_exporter": "python",
   "pygments_lexer": "ipython3",
   "version": "3.11.9"
  }
 },
 "nbformat": 4,
 "nbformat_minor": 5
}
